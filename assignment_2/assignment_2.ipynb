{
 "cells": [
  {
   "cell_type": "markdown",
   "id": "d04c529b",
   "metadata": {},
   "source": [
    "## CITA200 Assignment 2\n",
    "### Part 1\n",
    "\n",
    "Write a python function for the function $f(x) = x^3 - x^2 - 1$. Also, write a function for it's derivative (you will have to work out $df/dx$ yourself), you can call these functions `f` and `df`."
   ]
  },
  {
   "cell_type": "code",
   "execution_count": 1,
   "id": "c3bf31ed",
   "metadata": {},
   "outputs": [],
   "source": [
    "def f(x):\n",
    "    \"\"\" \n",
    "    Computes the value of the function f(x) = x^3 - x^2 - 1 at x.\n",
    "    \n",
    "    Parameters: \n",
    "    x ---- float, the input value of the function, to which f is evaluated.\n",
    "    \"\"\"\n",
    "    \n",
    "    return x**3 - (x**2) - 1\n",
    "\n",
    "\n",
    "def df(x):\n",
    "    \"\"\" \n",
    "    Computes the derivative of the function f(x) = x^3 - x^2 - 1 at x.\n",
    "    The derivative of f is df/dx = 3(x^2) - 2x\n",
    "    \n",
    "    Parameters:\n",
    "    x ---- float, the input value to which the derivative, to which df is evaluated.\n",
    "    \"\"\"\n",
    "    \n",
    "    return 3*(x**2) - 2*x"
   ]
  },
  {
   "cell_type": "markdown",
   "id": "ba755331",
   "metadata": {},
   "source": [
    "### Part 2\n",
    "\n",
    "Write a function `newton(f, df, x0, epsilon=1e-6, max_iter=30)` which performs a [Newton Iteration](https://en.wikipedia.org/wiki/Newton%27s_method) of the function `f` with derivative `df`.\n",
    "\n",
    "Newton iteration finds the root ($x_n$ such that $f(x_n) = 0$).\n",
    "\n",
    "To do this, implement the recursive expression $x_{n+1} = x_n - \\frac{f(x_n)}{f'(x_n)}$ using a loop.\n",
    "\n",
    "The iteration should stop either when `max_iter` is exceeded or when $|f(x_n)|$ < `epsilon`.\n",
    "\n",
    "If the method succeeds, (ie $|f(x_n$)| < `epsilon`), then your function should print `\"Found root in <N> iterations\"` and should return the value of $x_n$. Otherwise, it should print `\"Iteration failed\"` and return `None`.\n",
    "\n",
    "Make sure that your function is documented with [Numpy style documentation](https://numpydoc.readthedocs.io/en/latest/format.html)."
   ]
  },
  {
   "cell_type": "code",
   "execution_count": 2,
   "id": "5fdbb614",
   "metadata": {},
   "outputs": [],
   "source": [
    "def newton(f, df, x0, epsilon=1e-6, max_iter=30):\n",
    "    \"\"\" \n",
    "    Returns the nth root of the function f and its derivative df using the Newton root finding method. \n",
    "    Parameters: \n",
    "    f ---- function, the function of interest to find the root.\n",
    "    df ---- function, the derivative of the function f.\n",
    "    x0 ---- float, the intial guess of the root. \n",
    "    epsilon ---- float, the tolerance for the root.\n",
    "    max_iter ---- int, the maximum number of iterations to be performed.  \n",
    "    \"\"\"\n",
    "    xn = x0\n",
    "    for i in range(max_iter):\n",
    "        if abs(f(xn)) < epsilon:\n",
    "            print(f\"Found root in {i} iterations.\")\n",
    "            return xn\n",
    "        else: \n",
    "            if df(xn) == 0:\n",
    "                return None\n",
    "        \n",
    "        xn = xn - (f(xn)/df(xn))\n",
    "    print('Iteration failed.')\n",
    "        \n",
    "    return None"
   ]
  },
  {
   "cell_type": "code",
   "execution_count": 3,
   "id": "7f0b85ce",
   "metadata": {},
   "outputs": [
    {
     "name": "stdout",
     "output_type": "stream",
     "text": [
      "Found root in 5 iterations.\n"
     ]
    },
    {
     "data": {
      "text/plain": [
       "1.4655713749070918"
      ]
     },
     "execution_count": 3,
     "metadata": {},
     "output_type": "execute_result"
    }
   ],
   "source": [
    "# testing the function:\n",
    "\n",
    "newton(f, df, 1, epsilon=1e-6, max_iter=30)"
   ]
  },
  {
   "cell_type": "code",
   "execution_count": 4,
   "id": "bda6455c",
   "metadata": {},
   "outputs": [
    {
     "name": "stdout",
     "output_type": "stream",
     "text": [
      "Found root in 6 iterations.\n"
     ]
    },
    {
     "data": {
      "text/plain": [
       "1.4655712318767877"
      ]
     },
     "execution_count": 4,
     "metadata": {},
     "output_type": "execute_result"
    }
   ],
   "source": [
    "# testing with different epsilon value \n",
    "\n",
    "newton(f, df, 1, epsilon=1e-8, max_iter=30)"
   ]
  },
  {
   "cell_type": "markdown",
   "id": "bddaad0d",
   "metadata": {},
   "source": [
    "Generally, when changing epsilon to 1e-8, the solution takes 1 more iteration to converge. "
   ]
  },
  {
   "cell_type": "code",
   "execution_count": null,
   "id": "87c26ac8",
   "metadata": {},
   "outputs": [],
   "source": []
  }
 ],
 "metadata": {
  "kernelspec": {
   "display_name": "Python 3 (ipykernel)",
   "language": "python",
   "name": "python3"
  },
  "language_info": {
   "codemirror_mode": {
    "name": "ipython",
    "version": 3
   },
   "file_extension": ".py",
   "mimetype": "text/x-python",
   "name": "python",
   "nbconvert_exporter": "python",
   "pygments_lexer": "ipython3",
   "version": "3.10.2"
  }
 },
 "nbformat": 4,
 "nbformat_minor": 5
}
